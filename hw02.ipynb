{
 "cells": [
  {
   "attachments": {},
   "cell_type": "markdown",
   "metadata": {},
   "source": [
    "# **Load Data**"
   ]
  },
  {
   "cell_type": "code",
   "execution_count": 2,
   "metadata": {},
   "outputs": [],
   "source": [
    "from graph_algo.graph_algo import *\n",
    "import pandas as pd\n",
    "import warnings\n",
    "\n",
    "warnings.filterwarnings('ignore')\n",
    "\n",
    "train = pd.read_csv('data/train.csv')\n",
    "test = pd.read_csv('data/test.csv')\n",
    "\n",
    "graph = Graph()\n",
    "\n",
    "for node1, node2 in train[['Node1', 'Node2']].values:\n",
    "    graph.add_edge(node1, node2)\n",
    "    graph.add_edge(node2, node1)"
   ]
  },
  {
   "attachments": {},
   "cell_type": "markdown",
   "metadata": {},
   "source": [
    "## **common_neighbors**"
   ]
  },
  {
   "cell_type": "code",
   "execution_count": null,
   "metadata": {},
   "outputs": [],
   "source": [
    "# level 1\n",
    "test['cn_level_1'] = test.apply(lambda x: len(graph.common_neighbors(node1=x['Node1'], node2=x['Node2'])), axis=1)"
   ]
  },
  {
   "cell_type": "code",
   "execution_count": null,
   "metadata": {},
   "outputs": [],
   "source": [
    "# level 2\n",
    "test['cn_level_2'] = test.apply(lambda x: len(graph.deep_common_neighbors(node1=x['Node1'], node2=x['Node2'], stop_level=2)), axis=1)"
   ]
  },
  {
   "cell_type": "code",
   "execution_count": null,
   "metadata": {},
   "outputs": [],
   "source": [
    "# level 3\n",
    "test['cn_level_3'] = test.apply(lambda x: len(graph.deep_common_neighbors(node1=x['Node1'], node2=x['Node2'], stop_level=3)), axis=1)"
   ]
  },
  {
   "attachments": {},
   "cell_type": "markdown",
   "metadata": {},
   "source": [
    "## **Jaccard coefficient**"
   ]
  },
  {
   "cell_type": "code",
   "execution_count": null,
   "metadata": {},
   "outputs": [],
   "source": [
    "test['jc_level_1'] = test.apply(lambda x: graph.deep_jaccard_coefficient(node1=x['Node1'], node2=x['Node2'], stop_level=1), axis=1)"
   ]
  },
  {
   "cell_type": "code",
   "execution_count": null,
   "metadata": {},
   "outputs": [],
   "source": [
    "test['jc_level_2'] = test.apply(lambda x: graph.deep_jaccard_coefficient(node1=x['Node1'], node2=x['Node2'], stop_level=2), axis=1)"
   ]
  },
  {
   "cell_type": "code",
   "execution_count": null,
   "metadata": {},
   "outputs": [],
   "source": [
    "test['jc_level_3'] = test.apply(lambda x: graph.deep_jaccard_coefficient(node1=x['Node1'], node2=x['Node2'], stop_level=3), axis=1)"
   ]
  },
  {
   "attachments": {},
   "cell_type": "markdown",
   "metadata": {},
   "source": [
    "## **to class (if same community)**"
   ]
  },
  {
   "cell_type": "code",
   "execution_count": null,
   "metadata": {},
   "outputs": [],
   "source": [
    "test['class_cn_level_1'] = test['cn_level_1'].apply(lambda x: 1 if x > 0 else 0)\n",
    "test['class_cn_level_2'] = test['cn_level_2'].apply(lambda x: 1 if x > 0 else 0)\n",
    "test['class_cn_level_3'] = test['cn_level_3'].apply(lambda x: 1 if x > 0 else 0)"
   ]
  },
  {
   "cell_type": "code",
   "execution_count": null,
   "metadata": {},
   "outputs": [],
   "source": [
    "test['class_jc_level_1_gt_mean'] = test['jc_level_1'].apply(lambda x: 1 if x > test['jc_level_1'].mean() else 0)\n",
    "test['class_jc_level_2_gt_mean'] = test['jc_level_2'].apply(lambda x: 1 if x > test['jc_level_2'].mean() else 0)\n",
    "test['class_jc_level_3_gt_mean'] = test['jc_level_3'].apply(lambda x: 1 if x > test['jc_level_3'].mean() else 0)"
   ]
  },
  {
   "cell_type": "code",
   "execution_count": null,
   "metadata": {},
   "outputs": [],
   "source": [
    "test['class_jc_level_1_gt_mean_minus_var'] = test['jc_level_1'].apply(lambda x: 1 if x > test['jc_level_1'].mean() - test['jc_level_1'].var() else 0)\n",
    "test['class_jc_level_2_gt_mean_minus_var'] = test['jc_level_2'].apply(lambda x: 1 if x > test['jc_level_2'].mean() - test['jc_level_2'].var() else 0)\n",
    "test['class_jc_level_3_gt_mean_minus_var'] = test['jc_level_3'].apply(lambda x: 1 if x > test['jc_level_3'].mean() - test['jc_level_3'].var() else 0)"
   ]
  },
  {
   "cell_type": "code",
   "execution_count": null,
   "metadata": {},
   "outputs": [],
   "source": [
    "for col in test.columns.to_list():\n",
    "    if col.startswith('class_'):\n",
    "        test[['Id', col]].to_csv(f'data/{col}.csv', index=False, header=['Id', 'Category'])"
   ]
  }
 ],
 "metadata": {
  "kernelspec": {
   "display_name": "base",
   "language": "python",
   "name": "python3"
  },
  "language_info": {
   "codemirror_mode": {
    "name": "ipython",
    "version": 3
   },
   "file_extension": ".py",
   "mimetype": "text/x-python",
   "name": "python",
   "nbconvert_exporter": "python",
   "pygments_lexer": "ipython3",
   "version": "3.9.13"
  },
  "orig_nbformat": 4
 },
 "nbformat": 4,
 "nbformat_minor": 2
}
