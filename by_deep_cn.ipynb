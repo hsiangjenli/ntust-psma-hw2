{
 "cells": [
  {
   "cell_type": "code",
   "execution_count": 1,
   "metadata": {},
   "outputs": [],
   "source": [
    "from graph_algo.graph_algo import *\n",
    "import pandas as pd\n",
    "import warnings\n",
    "\n",
    "warnings.filterwarnings('ignore')\n",
    "\n",
    "train = pd.read_csv('data/train.csv')\n",
    "test = pd.read_csv('data/test.csv')\n",
    "\n",
    "graph = Graph()\n",
    "for node1, node2 in train[['Node1', 'Node2']].values:\n",
    "    graph.add_edge(node1, node2)\n",
    "    graph.add_edge(node2, node1)"
   ]
  },
  {
   "cell_type": "code",
   "execution_count": 2,
   "metadata": {},
   "outputs": [],
   "source": [
    "def deep_common_neighbors(cn, level=1, stop_level=2):\n",
    "    cn_cn = []\n",
    "    \n",
    "    if level == stop_level:\n",
    "        return cn\n",
    "    \n",
    "    else:\n",
    "        for node in cn:\n",
    "            cn_cn.append(node)\n",
    "            cn_cn.extend(deep_common_neighbors(graph.get_neighbors(node), level=level+1, stop_level=stop_level))\n",
    "        \n",
    "        return list(set(cn_cn))\n",
    "\n",
    "def community_common_neighbors(row, **kwargs):\n",
    "    node1_deep_cn = deep_common_neighbors(graph.get_neighbors(row['Node1']), **kwargs)\n",
    "    node2_deep_cn = deep_common_neighbors(graph.get_neighbors(row['Node2']), **kwargs)\n",
    "    cn = list(set(node1_deep_cn).intersection(set(node2_deep_cn)))  \n",
    "    \n",
    "    if cn:\n",
    "        return 1\n",
    "    else:\n",
    "        return 0"
   ]
  },
  {
   "cell_type": "code",
   "execution_count": 3,
   "metadata": {},
   "outputs": [],
   "source": [
    "# deep_common_neighbors([991, 82488], level=1, stop_level=2)"
   ]
  },
  {
   "cell_type": "code",
   "execution_count": 4,
   "metadata": {},
   "outputs": [],
   "source": [
    "test['Category'] = test.apply(community_common_neighbors, axis=1, level=1, stop_level=2)"
   ]
  },
  {
   "cell_type": "code",
   "execution_count": 5,
   "metadata": {},
   "outputs": [
    {
     "data": {
      "text/plain": [
       "0    685\n",
       "1    315\n",
       "Name: Category, dtype: int64"
      ]
     },
     "execution_count": 5,
     "metadata": {},
     "output_type": "execute_result"
    }
   ],
   "source": [
    "test.Category.value_counts()"
   ]
  },
  {
   "cell_type": "code",
   "execution_count": 38,
   "metadata": {},
   "outputs": [],
   "source": [
    "test[['Id', 'Category']].to_csv('data/sub_deep_2_cn_gt_0.csv', index=False)"
   ]
  }
 ],
 "metadata": {
  "kernelspec": {
   "display_name": "base",
   "language": "python",
   "name": "python3"
  },
  "language_info": {
   "codemirror_mode": {
    "name": "ipython",
    "version": 3
   },
   "file_extension": ".py",
   "mimetype": "text/x-python",
   "name": "python",
   "nbconvert_exporter": "python",
   "pygments_lexer": "ipython3",
   "version": "3.9.13"
  },
  "orig_nbformat": 4
 },
 "nbformat": 4,
 "nbformat_minor": 2
}
